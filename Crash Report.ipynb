{
 "cells": [
  {
   "cell_type": "code",
   "execution_count": 1,
   "id": "fecbf0a4",
   "metadata": {},
   "outputs": [],
   "source": [
    "import pandas as pd\n",
    "import numpy as np\n",
    "import matplotlib.pyplot as plt\n",
    "import seaborn as sns\n",
    "from sklearn.model_selection import train_test_split\n",
    "from sklearn.preprocessing import LabelEncoder, StandardScaler\n",
    "from sklearn.feature_selection import SelectKBest, chi2\n",
    "from sklearn.preprocessing import StandardScaler\n",
    "from sklearn.linear_model import LogisticRegression\n",
    "from sklearn.neighbors import KNeighborsClassifier\n",
    "from sklearn.tree import DecisionTreeClassifier\n",
    "from sklearn.metrics import confusion_matrix\n",
    "from sklearn.impute import SimpleImputer\n",
    "from sklearn.metrics import accuracy_score, precision_score, recall_score, f1_score"
   ]
  },
  {
   "cell_type": "markdown",
   "id": "b3fd8b64",
   "metadata": {},
   "source": [
    "#### Step 1: Data Preprocessing"
   ]
  },
  {
   "cell_type": "code",
   "execution_count": 2,
   "id": "2b8482d0",
   "metadata": {},
   "outputs": [
    {
     "name": "stderr",
     "output_type": "stream",
     "text": [
      "C:\\Users\\ACER\\AppData\\Local\\Temp\\ipykernel_7316\\4122031992.py:2: DtypeWarning: Columns (1) have mixed types. Specify dtype option on import or set low_memory=False.\n",
      "  data = pd.read_csv(\"C:\\\\Users\\\\ACER\\\\Documents\\\\Semester 2\\\\01_Machine Learning\\\\01_Course Work\\\\02_Program\\\\Crash_Reporting_Drivers_Data.csv\")\n"
     ]
    }
   ],
   "source": [
    "# Load the dataset\n",
    "data = pd.read_csv(\"C:\\\\Users\\\\ACER\\\\Documents\\\\Semester 2\\\\01_Machine Learning\\\\\n",
    "                    01_Course Work\\\\02_Program\\\\Crash_Reporting_Drivers_Data.csv\")\n"
   ]
  },
  {
   "cell_type": "code",
   "execution_count": 3,
   "id": "4b62b775",
   "metadata": {},
   "outputs": [
    {
     "data": {
      "text/html": [
       "<div>\n",
       "<style scoped>\n",
       "    .dataframe tbody tr th:only-of-type {\n",
       "        vertical-align: middle;\n",
       "    }\n",
       "\n",
       "    .dataframe tbody tr th {\n",
       "        vertical-align: top;\n",
       "    }\n",
       "\n",
       "    .dataframe thead th {\n",
       "        text-align: right;\n",
       "    }\n",
       "</style>\n",
       "<table border=\"1\" class=\"dataframe\">\n",
       "  <thead>\n",
       "    <tr style=\"text-align: right;\">\n",
       "      <th></th>\n",
       "      <th>Report Number</th>\n",
       "      <th>Local Case Number</th>\n",
       "      <th>Agency Name</th>\n",
       "      <th>ACRS Report Type</th>\n",
       "      <th>Crash Date/Time</th>\n",
       "      <th>Route Type</th>\n",
       "      <th>Road Name</th>\n",
       "      <th>Cross-Street Type</th>\n",
       "      <th>Cross-Street Name</th>\n",
       "      <th>Off-Road Description</th>\n",
       "      <th>...</th>\n",
       "      <th>Speed Limit</th>\n",
       "      <th>Driverless Vehicle</th>\n",
       "      <th>Parked Vehicle</th>\n",
       "      <th>Vehicle Year</th>\n",
       "      <th>Vehicle Make</th>\n",
       "      <th>Vehicle Model</th>\n",
       "      <th>Equipment Problems</th>\n",
       "      <th>Latitude</th>\n",
       "      <th>Longitude</th>\n",
       "      <th>Location</th>\n",
       "    </tr>\n",
       "  </thead>\n",
       "  <tbody>\n",
       "    <tr>\n",
       "      <th>0</th>\n",
       "      <td>DD5620004G</td>\n",
       "      <td>190046109</td>\n",
       "      <td>Rockville Police Departme</td>\n",
       "      <td>Property Damage Crash</td>\n",
       "      <td>09/26/2019 07:20:00 AM</td>\n",
       "      <td>NaN</td>\n",
       "      <td>NaN</td>\n",
       "      <td>NaN</td>\n",
       "      <td>NaN</td>\n",
       "      <td>PARKING LOT</td>\n",
       "      <td>...</td>\n",
       "      <td>15</td>\n",
       "      <td>No</td>\n",
       "      <td>No</td>\n",
       "      <td>2017</td>\n",
       "      <td>THOMAS</td>\n",
       "      <td>BUS</td>\n",
       "      <td>NO MISUSE</td>\n",
       "      <td>39.103518</td>\n",
       "      <td>-77.157669</td>\n",
       "      <td>(39.10351817, -77.15766933)</td>\n",
       "    </tr>\n",
       "    <tr>\n",
       "      <th>1</th>\n",
       "      <td>MCP29620057</td>\n",
       "      <td>200023865</td>\n",
       "      <td>Montgomery County Police</td>\n",
       "      <td>Property Damage Crash</td>\n",
       "      <td>06/18/2020 02:00:00 AM</td>\n",
       "      <td>County</td>\n",
       "      <td>DAIRYMAID DR</td>\n",
       "      <td>County</td>\n",
       "      <td>METZ DR</td>\n",
       "      <td>NaN</td>\n",
       "      <td>...</td>\n",
       "      <td>35</td>\n",
       "      <td>No</td>\n",
       "      <td>No</td>\n",
       "      <td>2020</td>\n",
       "      <td>UNK</td>\n",
       "      <td>UNK</td>\n",
       "      <td>UNKNOWN</td>\n",
       "      <td>39.154847</td>\n",
       "      <td>-77.271245</td>\n",
       "      <td>(39.15484667, -77.271245)</td>\n",
       "    </tr>\n",
       "    <tr>\n",
       "      <th>2</th>\n",
       "      <td>MCP2651004P</td>\n",
       "      <td>210035267</td>\n",
       "      <td>Montgomery County Police</td>\n",
       "      <td>Property Damage Crash</td>\n",
       "      <td>09/08/2021 12:30:00 PM</td>\n",
       "      <td>NaN</td>\n",
       "      <td>NaN</td>\n",
       "      <td>NaN</td>\n",
       "      <td>NaN</td>\n",
       "      <td>PARKING LOT OF 10109 COLESVILLE RD</td>\n",
       "      <td>...</td>\n",
       "      <td>0</td>\n",
       "      <td>No</td>\n",
       "      <td>No</td>\n",
       "      <td>2010</td>\n",
       "      <td>TOYOTA</td>\n",
       "      <td>SUV</td>\n",
       "      <td>UNKNOWN</td>\n",
       "      <td>39.020303</td>\n",
       "      <td>-77.011436</td>\n",
       "      <td>(39.02030267, -77.01143583)</td>\n",
       "    </tr>\n",
       "    <tr>\n",
       "      <th>3</th>\n",
       "      <td>MCP3050004K</td>\n",
       "      <td>200016465</td>\n",
       "      <td>Montgomery County Police</td>\n",
       "      <td>Property Damage Crash</td>\n",
       "      <td>04/19/2020 03:39:00 PM</td>\n",
       "      <td>County</td>\n",
       "      <td>RUSSETT RD</td>\n",
       "      <td>County</td>\n",
       "      <td>ARCTIC AVE</td>\n",
       "      <td>NaN</td>\n",
       "      <td>...</td>\n",
       "      <td>25</td>\n",
       "      <td>No</td>\n",
       "      <td>No</td>\n",
       "      <td>2004</td>\n",
       "      <td>DODGE</td>\n",
       "      <td>GRAND CARAVAN</td>\n",
       "      <td>NO MISUSE</td>\n",
       "      <td>39.080062</td>\n",
       "      <td>-77.097845</td>\n",
       "      <td>(39.08006167, -77.097845)</td>\n",
       "    </tr>\n",
       "    <tr>\n",
       "      <th>4</th>\n",
       "      <td>MCP2641001J</td>\n",
       "      <td>200016526</td>\n",
       "      <td>Montgomery County Police</td>\n",
       "      <td>Injury Crash</td>\n",
       "      <td>04/20/2020 09:15:00 AM</td>\n",
       "      <td>County</td>\n",
       "      <td>ARCHDALE RD</td>\n",
       "      <td>County</td>\n",
       "      <td>GUNNERS BRANCH RD</td>\n",
       "      <td>NaN</td>\n",
       "      <td>...</td>\n",
       "      <td>25</td>\n",
       "      <td>No</td>\n",
       "      <td>No</td>\n",
       "      <td>2006</td>\n",
       "      <td>HONDA</td>\n",
       "      <td>CR-V</td>\n",
       "      <td>UNKNOWN</td>\n",
       "      <td>39.175230</td>\n",
       "      <td>-77.241090</td>\n",
       "      <td>(39.17523, -77.24109)</td>\n",
       "    </tr>\n",
       "  </tbody>\n",
       "</table>\n",
       "<p>5 rows × 43 columns</p>\n",
       "</div>"
      ],
      "text/plain": [
       "  Report Number Local Case Number                Agency Name  \\\n",
       "0    DD5620004G         190046109  Rockville Police Departme   \n",
       "1   MCP29620057         200023865   Montgomery County Police   \n",
       "2   MCP2651004P         210035267   Montgomery County Police   \n",
       "3   MCP3050004K         200016465   Montgomery County Police   \n",
       "4   MCP2641001J         200016526   Montgomery County Police   \n",
       "\n",
       "        ACRS Report Type         Crash Date/Time Route Type     Road Name  \\\n",
       "0  Property Damage Crash  09/26/2019 07:20:00 AM        NaN           NaN   \n",
       "1  Property Damage Crash  06/18/2020 02:00:00 AM     County  DAIRYMAID DR   \n",
       "2  Property Damage Crash  09/08/2021 12:30:00 PM        NaN           NaN   \n",
       "3  Property Damage Crash  04/19/2020 03:39:00 PM     County    RUSSETT RD   \n",
       "4           Injury Crash  04/20/2020 09:15:00 AM     County   ARCHDALE RD   \n",
       "\n",
       "  Cross-Street Type  Cross-Street Name                Off-Road Description  \\\n",
       "0               NaN                NaN                         PARKING LOT   \n",
       "1            County            METZ DR                                 NaN   \n",
       "2               NaN                NaN  PARKING LOT OF 10109 COLESVILLE RD   \n",
       "3            County         ARCTIC AVE                                 NaN   \n",
       "4            County  GUNNERS BRANCH RD                                 NaN   \n",
       "\n",
       "   ... Speed Limit Driverless Vehicle Parked Vehicle Vehicle Year  \\\n",
       "0  ...          15                 No             No         2017   \n",
       "1  ...          35                 No             No         2020   \n",
       "2  ...           0                 No             No         2010   \n",
       "3  ...          25                 No             No         2004   \n",
       "4  ...          25                 No             No         2006   \n",
       "\n",
       "  Vehicle Make  Vehicle Model Equipment Problems   Latitude  Longitude  \\\n",
       "0       THOMAS            BUS          NO MISUSE  39.103518 -77.157669   \n",
       "1          UNK            UNK            UNKNOWN  39.154847 -77.271245   \n",
       "2       TOYOTA            SUV            UNKNOWN  39.020303 -77.011436   \n",
       "3        DODGE  GRAND CARAVAN          NO MISUSE  39.080062 -77.097845   \n",
       "4        HONDA           CR-V            UNKNOWN  39.175230 -77.241090   \n",
       "\n",
       "                      Location  \n",
       "0  (39.10351817, -77.15766933)  \n",
       "1    (39.15484667, -77.271245)  \n",
       "2  (39.02030267, -77.01143583)  \n",
       "3    (39.08006167, -77.097845)  \n",
       "4        (39.17523, -77.24109)  \n",
       "\n",
       "[5 rows x 43 columns]"
      ]
     },
     "execution_count": 3,
     "metadata": {},
     "output_type": "execute_result"
    }
   ],
   "source": [
    "data.head()"
   ]
  },
  {
   "cell_type": "code",
   "execution_count": 33,
   "id": "7836a0f0",
   "metadata": {},
   "outputs": [
    {
     "data": {
      "text/plain": [
       "0         False\n",
       "1         False\n",
       "2         False\n",
       "3         False\n",
       "4         False\n",
       "          ...  \n",
       "160893    False\n",
       "160894    False\n",
       "160895    False\n",
       "160896    False\n",
       "160897    False\n",
       "Length: 160898, dtype: bool"
      ]
     },
     "execution_count": 33,
     "metadata": {},
     "output_type": "execute_result"
    }
   ],
   "source": [
    "# Check the duplicate rows\n",
    "data.duplicated()"
   ]
  },
  {
   "cell_type": "code",
   "execution_count": 34,
   "id": "c04017e8",
   "metadata": {},
   "outputs": [
    {
     "name": "stdout",
     "output_type": "stream",
     "text": [
      "<class 'pandas.core.frame.DataFrame'>\n",
      "RangeIndex: 160898 entries, 0 to 160897\n",
      "Data columns (total 43 columns):\n",
      " #   Column                          Non-Null Count   Dtype  \n",
      "---  ------                          --------------   -----  \n",
      " 0   Report Number                   160898 non-null  object \n",
      " 1   Local Case Number               160898 non-null  object \n",
      " 2   Agency Name                     160898 non-null  object \n",
      " 3   ACRS Report Type                160898 non-null  object \n",
      " 4   Crash Date/Time                 160898 non-null  object \n",
      " 5   Route Type                      145059 non-null  object \n",
      " 6   Road Name                       145967 non-null  object \n",
      " 7   Cross-Street Type               145031 non-null  object \n",
      " 8   Cross-Street Name               145958 non-null  object \n",
      " 9   Off-Road Description            14929 non-null   object \n",
      " 10  Municipality                    17841 non-null   object \n",
      " 11  Related Non-Motorist            5083 non-null    object \n",
      " 12  Collision Type                  160356 non-null  object \n",
      " 13  Weather                         148321 non-null  object \n",
      " 14  Surface Condition               142020 non-null  object \n",
      " 15  Light                           159564 non-null  object \n",
      " 16  Traffic Control                 136786 non-null  object \n",
      " 17  Driver Substance Abuse          131617 non-null  object \n",
      " 18  Non-Motorist Substance Abuse    4023 non-null    object \n",
      " 19  Person ID                       160898 non-null  object \n",
      " 20  Driver At Fault                 160898 non-null  object \n",
      " 21  Injury Severity                 160898 non-null  object \n",
      " 22  Circumstance                    29532 non-null   object \n",
      " 23  Driver Distracted By            160898 non-null  object \n",
      " 24  Drivers License State           151862 non-null  object \n",
      " 25  Vehicle ID                      160898 non-null  object \n",
      " 26  Vehicle Damage Extent           160614 non-null  object \n",
      " 27  Vehicle First Impact Location   160742 non-null  object \n",
      " 28  Vehicle Second Impact Location  160642 non-null  object \n",
      " 29  Vehicle Body Type               158435 non-null  object \n",
      " 30  Vehicle Movement                160553 non-null  object \n",
      " 31  Vehicle Continuing Dir          158399 non-null  object \n",
      " 32  Vehicle Going Dir               158399 non-null  object \n",
      " 33  Speed Limit                     160898 non-null  int64  \n",
      " 34  Driverless Vehicle              160898 non-null  object \n",
      " 35  Parked Vehicle                  160898 non-null  object \n",
      " 36  Vehicle Year                    160898 non-null  int64  \n",
      " 37  Vehicle Make                    160876 non-null  object \n",
      " 38  Vehicle Model                   160836 non-null  object \n",
      " 39  Equipment Problems              128445 non-null  object \n",
      " 40  Latitude                        160898 non-null  float64\n",
      " 41  Longitude                       160898 non-null  float64\n",
      " 42  Location                        160898 non-null  object \n",
      "dtypes: float64(2), int64(2), object(39)\n",
      "memory usage: 52.8+ MB\n"
     ]
    }
   ],
   "source": [
    "# Check the data information\n",
    "data.info()"
   ]
  },
  {
   "cell_type": "code",
   "execution_count": 35,
   "id": "543a8371",
   "metadata": {},
   "outputs": [
    {
     "name": "stdout",
     "output_type": "stream",
     "text": [
      "\n",
      "Categorical columns : ['Report Number', 'Local Case Number', 'Agency Name', 'ACRS Report Type', 'Crash Date/Time', 'Route Type', 'Road Name', 'Cross-Street Type', 'Cross-Street Name', 'Off-Road Description', 'Municipality', 'Related Non-Motorist', 'Collision Type', 'Weather', 'Surface Condition', 'Light', 'Traffic Control', 'Driver Substance Abuse', 'Non-Motorist Substance Abuse', 'Person ID', 'Driver At Fault', 'Injury Severity', 'Circumstance', 'Driver Distracted By', 'Drivers License State', 'Vehicle ID', 'Vehicle Damage Extent', 'Vehicle First Impact Location', 'Vehicle Second Impact Location', 'Vehicle Body Type', 'Vehicle Movement', 'Vehicle Continuing Dir', 'Vehicle Going Dir', 'Driverless Vehicle', 'Parked Vehicle', 'Vehicle Make', 'Vehicle Model', 'Equipment Problems', 'Location']\n",
      "\n",
      "Numerical columns : ['Speed Limit', 'Vehicle Year', 'Latitude', 'Longitude']\n"
     ]
    }
   ],
   "source": [
    "# Categorical columns\n",
    "cat_col = [col for col in data.columns if data[col].dtype == 'object']\n",
    "print('\\nCategorical columns :',cat_col)\n",
    "\n",
    "# Numerical columns\n",
    "num_col = [col for col in data.columns if data[col].dtype != 'object']\n",
    "print('\\nNumerical columns :',num_col)"
   ]
  },
  {
   "cell_type": "code",
   "execution_count": 36,
   "id": "32f93e77",
   "metadata": {},
   "outputs": [
    {
     "name": "stdout",
     "output_type": "stream",
     "text": [
      "All missing values have been filled successfully.\n"
     ]
    }
   ],
   "source": [
    "# Handle missing values if any\n",
    "\n",
    "from sklearn.impute import SimpleImputer\n",
    "\n",
    "# Fill missing values for numerical columns with mean\n",
    "numerical_columns = data.select_dtypes(include=['int64', 'float64']).columns\n",
    "imputer = SimpleImputer(strategy='mean')\n",
    "data[numerical_columns] = imputer.fit_transform(data[numerical_columns])\n",
    "\n",
    "# Fill missing values for categorical columns with mode\n",
    "categorical_columns = data.select_dtypes(include=['object']).columns\n",
    "imputer = SimpleImputer(strategy='most_frequent')\n",
    "data[categorical_columns] = imputer.fit_transform(data[categorical_columns])\n",
    "\n",
    "# Verify if all missing values are filled\n",
    "missing_values_count = data.isnull().sum().sum()\n",
    "if missing_values_count == 0:\n",
    "    print(\"All missing values have been filled successfully.\")\n",
    "else:\n",
    "    print(f\"There are still {missing_values_count} missing values in the dataset.\")\n",
    "\n",
    "# Save the filled DataFrame to a new file\n",
    "data.to_csv('filled_data.csv', index=False)  # Replace file to new 'filled_data.csv'"
   ]
  },
  {
   "cell_type": "code",
   "execution_count": 37,
   "id": "155708b8",
   "metadata": {},
   "outputs": [
    {
     "data": {
      "text/plain": [
       "(160898, 43)"
      ]
     },
     "execution_count": 37,
     "metadata": {},
     "output_type": "execute_result"
    }
   ],
   "source": [
    "# Deleting missing values if any\n",
    "data = data.dropna()\n",
    "data.shape"
   ]
  },
  {
   "cell_type": "code",
   "execution_count": 38,
   "id": "602853e6",
   "metadata": {},
   "outputs": [],
   "source": [
    "# Drop irrelevant columns\n",
    "columns_to_drop = ['Report Number', 'Local Case Number', 'Agency Name', 'Crash Date/Time',\n",
    "                   'Route Type', 'Road Name', 'Cross-Street Type', 'Cross-Street Name',\n",
    "                   'Off-Road Description', 'Municipality', 'Related Non-Motorist', 'Person ID',\n",
    "                   'Drivers License State', 'Vehicle ID', 'Latitude', 'Longitude', 'Location']\n",
    "data = data.drop(columns=columns_to_drop)\n"
   ]
  },
  {
   "cell_type": "markdown",
   "id": "6b216c21",
   "metadata": {},
   "source": [
    "#### Step 2: Feature Selection and Extraction"
   ]
  },
  {
   "cell_type": "code",
   "execution_count": 39,
   "id": "8fe7d5c3",
   "metadata": {},
   "outputs": [],
   "source": [
    "# Encode categorical features\n",
    "categorical_features = ['ACRS Report Type', 'Collision Type', 'Weather', 'Surface Condition',\n",
    "                        'Light', 'Traffic Control', 'Driver Substance Abuse',\n",
    "                        'Non-Motorist Substance Abuse', 'Driver At Fault', 'Injury Severity',\n",
    "                        'Circumstance', 'Driver Distracted By', 'Vehicle Damage Extent',\n",
    "                        'Vehicle First Impact Location', 'Vehicle Second Impact Location',\n",
    "                        'Vehicle Body Type', 'Vehicle Movement', 'Vehicle Continuing Dir',\n",
    "                        'Vehicle Going Dir', 'Driverless Vehicle', 'Parked Vehicle',\n",
    "                        'Vehicle Make', 'Vehicle Model', 'Equipment Problems']\n",
    "for feature in categorical_features:\n",
    "    le = LabelEncoder()\n",
    "    data[feature] = le.fit_transform(data[feature])"
   ]
  },
  {
   "cell_type": "code",
   "execution_count": 40,
   "id": "d29f816e",
   "metadata": {},
   "outputs": [
    {
     "name": "stdout",
     "output_type": "stream",
     "text": [
      "Selected Features:\n",
      "Index(['ACRS Report Type', 'Traffic Control', 'Driver At Fault',\n",
      "       'Driver Distracted By', 'Vehicle Damage Extent', 'Vehicle Movement',\n",
      "       'Speed Limit', 'Vehicle Year', 'Vehicle Make', 'Vehicle Model'],\n",
      "      dtype='object')\n"
     ]
    }
   ],
   "source": [
    "# Select top K best features\n",
    "\n",
    "from sklearn.feature_selection import SelectKBest, chi2\n",
    "\n",
    "# Specify the number of top K features to select\n",
    "k = 10\n",
    "\n",
    "# Define the input features (X) and the target variable (y)\n",
    "X = data.drop(columns=['Injury Severity'])\n",
    "y = data['Injury Severity']\n",
    "\n",
    "# Apply feature selection\n",
    "selector = SelectKBest(score_func=chi2, k=k)\n",
    "X_selected = selector.fit_transform(X, y)\n",
    "\n",
    "# Get the indices of the selected features\n",
    "selected_feature_indices = selector.get_support(indices=True)\n",
    "\n",
    "# Get the names of the selected features\n",
    "selected_features = X.columns[selected_feature_indices]\n",
    "\n",
    "# Print the selected features\n",
    "print(\"Selected Features:\")\n",
    "print(selected_features)\n"
   ]
  },
  {
   "cell_type": "code",
   "execution_count": 41,
   "id": "7ea76958",
   "metadata": {},
   "outputs": [],
   "source": [
    "# Scale the features\n",
    "from sklearn.preprocessing import StandardScaler\n",
    "\n",
    "# Apply feature scaling\n",
    "scaler = StandardScaler()\n",
    "X_scaled = scaler.fit_transform(X_selected)\n"
   ]
  },
  {
   "cell_type": "code",
   "execution_count": 42,
   "id": "f60da969",
   "metadata": {},
   "outputs": [],
   "source": [
    "# Split the dataset for training and testing\n",
    "from sklearn.model_selection import train_test_split\n",
    "\n",
    "# Split the dataset into training and testing sets\n",
    "X_train, X_test, y_train, y_test = train_test_split(X_scaled, y, test_size=0.2, random_state=42)"
   ]
  },
  {
   "cell_type": "markdown",
   "id": "cc130680",
   "metadata": {},
   "source": [
    "#### Step 3: Classification Models"
   ]
  },
  {
   "cell_type": "code",
   "execution_count": 43,
   "id": "aa815189",
   "metadata": {},
   "outputs": [],
   "source": [
    "# Generalized Logistic Regression\n",
    "\n",
    "from sklearn.linear_model import LogisticRegression\n",
    "\n",
    "# Create an instance of the LogisticRegression model\n",
    "lr_model = LogisticRegression(max_iter=1000)\n",
    "\n",
    "# Fit the model to the scaled training data\n",
    "lr_model.fit(X_train, y_train)\n",
    "\n",
    "\n",
    "# Make predictions on the scaled testing data\n",
    "lr_predictions = lr_model.predict(X_test)\n"
   ]
  },
  {
   "cell_type": "code",
   "execution_count": 44,
   "id": "3ca29944",
   "metadata": {},
   "outputs": [
    {
     "data": {
      "image/png": "[encoded data removed]",
      "text/plain": [
       "<Figure size 640x480 with 2 Axes>"
      ]
     },
     "metadata": {},
     "output_type": "display_data"
    }
   ],
   "source": [
    "import matplotlib.pyplot as plt\n",
    "import seaborn as sns\n",
    "from sklearn.metrics import confusion_matrix\n",
    "\n",
    "# Calculate the confusion matrix\n",
    "confusion_matrix = confusion_matrix(y_test, lr_predictions)\n",
    "\n",
    "# Create a heatmap for the confusion matrix\n",
    "sns.heatmap(confusion_matrix, annot=True, fmt='d', cmap='Blues')\n",
    "\n",
    "# Add labels and title\n",
    "plt.xlabel('Predicted Labels')\n",
    "plt.ylabel('True Labels')\n",
    "plt.title('Confusion Matrix Heatmap for Logistic Regression')\n",
    "\n",
    "# Show the plot\n",
    "plt.show()\n"
   ]
  },
  {
   "cell_type": "code",
   "execution_count": 45,
   "id": "7695ff2c",
   "metadata": {},
   "outputs": [],
   "source": [
    "# Optimized K-nearest Neighbour\n",
    "\n",
    "from sklearn.neighbors import KNeighborsClassifier\n",
    "import warnings\n",
    "\n",
    "# Ignore the FutureWarning\n",
    "warnings.filterwarnings('ignore', category=FutureWarning)  \n",
    "\n",
    "# Create an instance of the KNeighborsClassifier model\n",
    "knn_model = KNeighborsClassifier(n_neighbors=5)\n",
    "\n",
    "# Fit the model to the scaled training data\n",
    "knn_model.fit(X_train, y_train)\n",
    "\n",
    "# Make predictions on the scaled testing data\n",
    "knn_predictions = knn_model.predict(X_test)\n"
   ]
  },
  {
   "cell_type": "code",
   "execution_count": 46,
   "id": "4f9a0698",
   "metadata": {},
   "outputs": [
    {
     "data": {
      "image/png": "[encoded data removed]",
      "text/plain": [
       "<Figure size 640x480 with 2 Axes>"
      ]
     },
     "metadata": {},
     "output_type": "display_data"
    }
   ],
   "source": [
    "import matplotlib.pyplot as plt\n",
    "import seaborn as sns\n",
    "from sklearn.metrics import confusion_matrix\n",
    "\n",
    "# Calculate the confusion matrix\n",
    "confusion_mat = confusion_matrix(y_test, knn_predictions)\n",
    "\n",
    "\n",
    "\n",
    "# Create a heatmap\n",
    "sns.heatmap(confusion_mat, annot=True, fmt='d', cmap='Blues')\n",
    "\n",
    "# Add labels, title, and ticks\n",
    "plt.xlabel(\"Predicted Labels\")\n",
    "plt.ylabel(\"True Labels\")\n",
    "plt.title(\"Confusion Matrix Heatmap for - KNN\")\n",
    "plt.show()\n"
   ]
  },
  {
   "cell_type": "code",
   "execution_count": 47,
   "id": "e59bd22e",
   "metadata": {},
   "outputs": [],
   "source": [
    "# Decision Trees\n",
    "from sklearn.tree import DecisionTreeClassifier\n",
    "\n",
    "# Create an instance of the DecisionTreeClassifier model\n",
    "dt_model = DecisionTreeClassifier()\n",
    "\n",
    "# Fit the model to the training data\n",
    "dt_model.fit(X_train, y_train)\n",
    "\n",
    "# Make predictions on the testing data\n",
    "dt_predictions = dt_model.predict(X_test)\n",
    "\n"
   ]
  },
  {
   "cell_type": "code",
   "execution_count": 48,
   "id": "c2e4be7a",
   "metadata": {},
   "outputs": [
    {
     "data": {
      "image/png": "[encoded data removed]",
      "text/plain": [
       "<Figure size 640x480 with 2 Axes>"
      ]
     },
     "metadata": {},
     "output_type": "display_data"
    }
   ],
   "source": [
    "import seaborn as sns\n",
    "import matplotlib.pyplot as plt\n",
    "\n",
    "# Generate the confusion matrix\n",
    "confusion = confusion_matrix(y_test, dt_predictions)\n",
    "\n",
    "# Create a heatmap\n",
    "sns.heatmap(confusion, annot=True, fmt='d', cmap='Blues')\n",
    "\n",
    "# Add labels, title, and axis ticks\n",
    "plt.xlabel(\"Predicted Labels\")\n",
    "plt.ylabel(\"True Labels\")\n",
    "plt.title(\"Confusion Matrix Heatmap for Decision Tree\")\n",
    "\n",
    "# Display the plot\n",
    "plt.show()\n"
   ]
  },
  {
   "cell_type": "markdown",
   "id": "5c941a03",
   "metadata": {},
   "source": [
    "#### Step 4: Performance Metrics"
   ]
  },
  {
   "cell_type": "code",
   "execution_count": 49,
   "id": "c262a8d3",
   "metadata": {},
   "outputs": [],
   "source": [
    "from sklearn.metrics import accuracy_score\n",
    "\n",
    "# Calculate accuracy for Logistic Regression\n",
    "lr_accuracy = accuracy_score(y_test, lr_predictions)\n",
    "\n",
    "# Calculate accuracy for K-Nearest Neighbors\n",
    "knn_accuracy = accuracy_score(y_test, knn_predictions)\n",
    "\n",
    "# Calculate accuracy for Decision Tree\n",
    "dt_accuracy = accuracy_score(y_test, dt_predictions)\n"
   ]
  },
  {
   "cell_type": "code",
   "execution_count": 50,
   "id": "2fde9f5c",
   "metadata": {},
   "outputs": [
    {
     "name": "stderr",
     "output_type": "stream",
     "text": [
      "C:\\Users\\ACER\\anaconda3\\lib\\site-packages\\sklearn\\metrics\\_classification.py:1318: UndefinedMetricWarning: Precision is ill-defined and being set to 0.0 in labels with no predicted samples. Use `zero_division` parameter to control this behavior.\n",
      "  _warn_prf(average, modifier, msg_start, len(result))\n"
     ]
    }
   ],
   "source": [
    "from sklearn.metrics import precision_score\n",
    "\n",
    "# Calculate precision for Logistic Regression\n",
    "lr_precision = precision_score(y_test, lr_predictions, average='weighted')\n",
    "\n",
    "# Calculate precision for K-Nearest Neighbors\n",
    "knn_precision = precision_score(y_test, knn_predictions, average='weighted')\n",
    "\n",
    "# Calculate precision for Decision Tree\n",
    "dt_precision = precision_score(y_test, dt_predictions, average='weighted')\n"
   ]
  },
  {
   "cell_type": "code",
   "execution_count": 51,
   "id": "4316ba1f",
   "metadata": {},
   "outputs": [],
   "source": [
    "from sklearn.metrics import recall_score\n",
    "\n",
    "# Calculate recall for Logistic Regression\n",
    "lr_recall = recall_score(y_test, lr_predictions, average='weighted')\n",
    "\n",
    "# Calculate recall for K-Nearest Neighbors\n",
    "knn_recall = recall_score(y_test, knn_predictions, average='weighted')\n",
    "\n",
    "# Calculate recall for Decision Tree\n",
    "dt_recall = recall_score(y_test, dt_predictions, average='weighted')\n"
   ]
  },
  {
   "cell_type": "code",
   "execution_count": 52,
   "id": "e808dc8d",
   "metadata": {},
   "outputs": [],
   "source": [
    "from sklearn.metrics import f1_score\n",
    "\n",
    "# Calculate F1 score for Logistic Regression\n",
    "lr_f1_score = f1_score(y_test, lr_predictions, average='weighted')\n",
    "\n",
    "# Calculate F1 score for K-Nearest Neighbors\n",
    "knn_f1_score = f1_score(y_test, knn_predictions, average='weighted')\n",
    "\n",
    "# Calculate F1 score for Decision Tree\n",
    "dt_f1_score = f1_score(y_test, dt_predictions, average='weighted')\n"
   ]
  },
  {
   "cell_type": "code",
   "execution_count": 53,
   "id": "96e187ac",
   "metadata": {},
   "outputs": [
    {
     "name": "stdout",
     "output_type": "stream",
     "text": [
      "                 Model  Accuracy  Precision    Recall  F1 Score\n",
      "0  Logistic Regression  0.827439   0.767824  0.827439  0.790633\n",
      "1  K-Nearest Neighbors  0.822188   0.788373  0.822188  0.802120\n",
      "2        Decision Tree  0.800932   0.804183  0.800932  0.802533\n"
     ]
    }
   ],
   "source": [
    "# Print the output results\n",
    "import pandas as pd\n",
    "\n",
    "# Create a list of model names\n",
    "models = ['Logistic Regression', 'K-Nearest Neighbors', 'Decision Tree']\n",
    "\n",
    "# Create lists of performance metric scores for each model\n",
    "accuracy_scores = [lr_accuracy, knn_accuracy, dt_accuracy]\n",
    "precision_scores = [lr_precision, knn_precision, dt_precision]\n",
    "recall_scores = [lr_recall, knn_recall, dt_recall]\n",
    "f1_scores = [lr_f1_score, knn_f1_score, dt_f1_score]\n",
    "\n",
    "# Create a DataFrame to store the performance metrics\n",
    "results_df = pd.DataFrame({\n",
    "    'Model': models,\n",
    "    'Accuracy': accuracy_scores,\n",
    "    'Precision': precision_scores,\n",
    "    'Recall': recall_scores,\n",
    "    'F1 Score': f1_scores\n",
    "})\n",
    "\n",
    "# Print the DataFrame\n",
    "print(results_df)"
   ]
  },
  {
   "cell_type": "code",
   "execution_count": 54,
   "id": "dff12306",
   "metadata": {},
   "outputs": [
    {
     "data": {
      "image/png": "[encoded data removed]",
      "text/plain": [
       "<Figure size 1000x600 with 4 Axes>"
      ]
     },
     "metadata": {},
     "output_type": "display_data"
    }
   ],
   "source": [
    "# Compare and plot the performance metrics\n",
    "import matplotlib.pyplot as plt\n",
    "\n",
    "plt.figure(figsize=(10, 6))\n",
    "\n",
    "# Accuracy\n",
    "plt.subplot(2, 2, 1)\n",
    "plt.bar(models, accuracy_scores)\n",
    "plt.title('Accuracy')\n",
    "plt.ylabel('Score')\n",
    "\n",
    "# Precision\n",
    "plt.subplot(2, 2, 2)\n",
    "plt.bar(models, precision_scores)\n",
    "plt.title('Precision')\n",
    "plt.ylabel('Score')\n",
    "\n",
    "# Recall\n",
    "plt.subplot(2, 2, 3)\n",
    "plt.bar(models, recall_scores)\n",
    "plt.title('Recall')\n",
    "plt.ylabel('Score')\n",
    "\n",
    "# F1 Score\n",
    "plt.subplot(2, 2, 4)\n",
    "plt.bar(models, f1_scores)\n",
    "plt.title('F1 Score')\n",
    "plt.ylabel('Score')\n",
    "\n",
    "# Adjust the spacing between subplots\n",
    "plt.tight_layout()\n",
    "\n",
    "# Show the plot\n",
    "plt.show()\n"
   ]
  },
  {
   "cell_type": "code",
   "execution_count": null,
   "id": "2cb075cc",
   "metadata": {},
   "outputs": [],
   "source": [
    "\n"
   ]
  },
  {
   "cell_type": "code",
   "execution_count": null,
   "id": "05a5bf89",
   "metadata": {},
   "outputs": [],
   "source": []
  }
 ],
 "metadata": {
  "kernelspec": {
   "display_name": "Python 3 (ipykernel)",
   "language": "python",
   "name": "python3"
  },
  "language_info": {
   "codemirror_mode": {
    "name": "ipython",
    "version": 3
   },
   "file_extension": ".py",
   "mimetype": "text/x-python",
   "name": "python",
   "nbconvert_exporter": "python",
   "pygments_lexer": "ipython3",
   "version": "3.9.13"
  }
 },
 "nbformat": 4,
 "nbformat_minor": 5
}
